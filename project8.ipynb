{
  "nbformat": 4,
  "nbformat_minor": 0,
  "metadata": {
    "colab": {
      "provenance": [],
      "authorship_tag": "ABX9TyMFDzbm+3n8WR2c7Mqelk1r",
      "include_colab_link": true
    },
    "kernelspec": {
      "name": "python3",
      "display_name": "Python 3"
    },
    "language_info": {
      "name": "python"
    }
  },
  "cells": [
    {
      "cell_type": "markdown",
      "metadata": {
        "id": "view-in-github",
        "colab_type": "text"
      },
      "source": [
        "<a href=\"https://colab.research.google.com/github/sadafcode/project8/blob/main/project8.ipynb\" target=\"_parent\"><img src=\"https://colab.research.google.com/assets/colab-badge.svg\" alt=\"Open In Colab\"/></a>"
      ]
    },
    {
      "cell_type": "code",
      "source": [
        "def calculate_bmi(height, weight):\n",
        "    bmi = weight / ((height / 100) ** 2)\n",
        "    if bmi < 18.5:\n",
        "        category = \"Underweight\"\n",
        "    elif 18.5 <= bmi <= 24.9:\n",
        "        category = \"Normal weight\"\n",
        "    elif 25 <= bmi <= 29.9:\n",
        "        category = \"Overweight\"\n",
        "    else:\n",
        "        category = \"Obese\"\n",
        "    return f\"Your BMI is: {bmi:.2f}. You are {category}.\"\n",
        "calculate_bmi(175,66)"
      ],
      "metadata": {
        "colab": {
          "base_uri": "https://localhost:8080/",
          "height": 35
        },
        "id": "PsA4mNOarClM",
        "outputId": "d6de3dc3-444c-4e63-c71a-1e64c3deeefc"
      },
      "execution_count": 9,
      "outputs": [
        {
          "output_type": "execute_result",
          "data": {
            "text/plain": [
              "'Your BMI is: 21.55. You are Normal weight.'"
            ],
            "application/vnd.google.colaboratory.intrinsic+json": {
              "type": "string"
            }
          },
          "metadata": {},
          "execution_count": 9
        }
      ]
    },
    {
      "cell_type": "code",
      "source": [
        "!pip install gradio\n",
        "import gradio as gr\n",
        "\n",
        "def calculate_bmi(height,weight):\n",
        "  bmi = weight/((height/100)**2)\n",
        "  if bmi<18.5:\n",
        "    category = \"underweight\"\n",
        "  elif 18.5 <= bmi <= 24.9:\n",
        "    category = \"normal weight\"\n",
        "  elif 25 <= bmi <=29.9:\n",
        "    category = \"overweight\"\n",
        "  else:\n",
        "    category = \"obese\"\n",
        "  return f\"your BMI is: {bmi:.2f}. you are {category}.\"\n",
        "\n",
        "with gr.Blocks() as demo:\n",
        "  gr.Markdown(\"# BMI CALCULATOR\")\n",
        "  height = gr.Slider(100,250,step=1,label=\"height(in cm)\")\n",
        "  weight = gr.Slider(40,200,step=1,label=\"weight(in kg)\")\n",
        "  result = gr.Textbox(label=\"result\")\n",
        "  calculate_btn = gr.Button(\"calculate\")\n",
        "  calculate_btn.click(calculate_bmi,inputs=[height,weight],outputs=result)\n",
        "demo.launch()\n",
        "\n",
        "calculate_bmi(175,66)\n"
      ],
      "metadata": {
        "colab": {
          "base_uri": "https://localhost:8080/",
          "height": 664
        },
        "id": "vWWwCgF0ub0s",
        "outputId": "af0fee2e-321f-4e23-e18c-ddd728f38d8d"
      },
      "execution_count": 15,
      "outputs": [
        {
          "output_type": "stream",
          "name": "stdout",
          "text": [
            "Running Gradio in a Colab notebook requires sharing enabled. Automatically setting `share=True` (you can turn this off by setting `share=False` in `launch()` explicitly).\n",
            "\n",
            "Colab notebook detected. To show errors in colab notebook, set debug=True in launch()\n",
            "* Running on public URL: https://ff1c49114c0ca38397.gradio.live\n",
            "\n",
            "This share link expires in 72 hours. For free permanent hosting and GPU upgrades, run `gradio deploy` from the terminal in the working directory to deploy to Hugging Face Spaces (https://huggingface.co/spaces)\n"
          ]
        },
        {
          "output_type": "display_data",
          "data": {
            "text/plain": [
              "<IPython.core.display.HTML object>"
            ],
            "text/html": [
              "<div><iframe src=\"https://ff1c49114c0ca38397.gradio.live\" width=\"100%\" height=\"500\" allow=\"autoplay; camera; microphone; clipboard-read; clipboard-write;\" frameborder=\"0\" allowfullscreen></iframe></div>"
            ]
          },
          "metadata": {}
        },
        {
          "output_type": "execute_result",
          "data": {
            "text/plain": [
              "'your BMI is: 21.55. you are normal weight.'"
            ],
            "application/vnd.google.colaboratory.intrinsic+json": {
              "type": "string"
            }
          },
          "metadata": {},
          "execution_count": 15
        }
      ]
    }
  ]
}